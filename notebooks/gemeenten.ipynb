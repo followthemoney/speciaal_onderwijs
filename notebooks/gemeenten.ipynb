{
 "cells": [
  {
   "cell_type": "code",
   "execution_count": 1,
   "metadata": {},
   "outputs": [],
   "source": [
    "from pathlib import Path\n",
    "import pandas as pd"
   ]
  },
  {
   "cell_type": "code",
   "execution_count": 2,
   "metadata": {},
   "outputs": [],
   "source": [
    "PATH = Path.cwd().parent.joinpath('data')"
   ]
  },
  {
   "cell_type": "markdown",
   "metadata": {},
   "source": [
    "## Import data"
   ]
  },
  {
   "cell_type": "code",
   "execution_count": 3,
   "metadata": {},
   "outputs": [
    {
     "name": "stdout",
     "output_type": "stream",
     "text": [
      "Imported 4795 gemeenten, 6 opsplitsingen and 116 samenvoegingen\n"
     ]
    }
   ],
   "source": [
    "gemeenten = pd.read_csv(PATH.joinpath('gemeenten', 'gemeenten_per_jaar.csv'), dtype={'code': str})\n",
    "opsplitsingen = pd.read_csv(PATH.joinpath('gemeenten', 'opsplitsingen.csv'), dtype={'code_nieuw': str,\n",
    "                                                                                    'code_oud': str})\n",
    "samenvoegingen = pd.read_csv(PATH.joinpath('gemeenten', 'samenvoegingen.csv'), dtype={'code_nieuw': str,\n",
    "                                                                                    'code_oud': str})\n",
    "\n",
    "onderwijs = pd.read_csv(PATH.joinpath('onderwijs', 'speciaal_onderwijs.csv'), sep=';')\n",
    "\n",
    "print(f'Imported {len(gemeenten)} gemeenten, {len(opsplitsingen)} opsplitsingen and {len(samenvoegingen)} samenvoegingen')"
   ]
  },
  {
   "cell_type": "code",
   "execution_count": 4,
   "metadata": {},
   "outputs": [],
   "source": [
    "onderwijs.rename(columns={'Regiokenmerken': 'gemeente', \n",
    "                           'Leerlingen/studenten (aantal)': 'aantal_leerlingen',\n",
    "                           'Perioden': 'jaar'}, inplace=True)\n",
    "onderwijs.columns = onderwijs.columns.str.lower()\n",
    "onderwijs.jaar = onderwijs.jaar.str[0:4].astype(int)\n",
    "onderwijs.dropna(subset='aantal_leerlingen', inplace=True)\n",
    "onderwijs.aantal_leerlingen = onderwijs.aantal_leerlingen.astype(int)"
   ]
  },
  {
   "cell_type": "code",
   "execution_count": 5,
   "metadata": {},
   "outputs": [
    {
     "data": {
      "text/plain": [
       "16488"
      ]
     },
     "execution_count": 5,
     "metadata": {},
     "output_type": "execute_result"
    }
   ],
   "source": [
    "vso = onderwijs.query('onderwijssoort == \"Totaal (voortgezet) speciaal onderwijs \"').copy()\n",
    "vso = onderwijs.query('geslacht == \"Totaal mannen en vrouwen\"').copy()\n",
    "len(vso)"
   ]
  },
  {
   "cell_type": "code",
   "execution_count": 6,
   "metadata": {},
   "outputs": [],
   "source": [
    "# Define the dictionary for replacements\n",
    "to_replace = {'Gaasterl‚n-Sleat': 'Gaasterlân-Sleat',\n",
    "              ' (gemeente)':  '',\n",
    "              ' (O.)': '',\n",
    "              ' (NH.)': '',\n",
    "              ' (Z.)': '',\n",
    "              ' (ZH.)': '',\n",
    "              ' (L.)': '',\n",
    "              \"'s-Hertogenbosch\": 'Den Bosch',\n",
    "              's-Hertogenbosch': 'Den Bosch',\n",
    "              \"'s-Gravenhage\": 'Den Haag',\n",
    "              's-Gravenhage': 'Den Haag',\n",
    "              'S˙dwest-Frysl‚n': 'Súdwest-Fryslân',\n",
    "              'Skarsterl‚n': 'Skarsterlân',\n",
    "              }\n",
    "\n",
    "# Replace substrings in the 'gemeente' column of vso dataframe\n",
    "for key, value in to_replace.items():\n",
    "    vso['gemeente'] = vso['gemeente'].str.replace(key, value).str.strip()\n",
    "\n",
    "# Replace substrings in the 'gemeentenaam' column of gemeenten dataframe\n",
    "for key, value in to_replace.items():\n",
    "    gemeenten['gemeentenaam'] = gemeenten['gemeentenaam'].str.replace(key, value).str.strip()"
   ]
  },
  {
   "cell_type": "code",
   "execution_count": 7,
   "metadata": {},
   "outputs": [],
   "source": [
    "vso = pd.merge(vso[['jaar', 'gemeente', 'aantal_leerlingen']],\n",
    "               gemeenten,\n",
    "               left_on=['jaar', 'gemeente'],\n",
    "               right_on=['jaar', 'gemeentenaam'],\n",
    "               how='left'\n",
    "               ).drop('gemeentenaam', axis=1)\n",
    "\n",
    "vso = vso[vso.gemeente != 'Gemeenten; niet in te delen'].copy()"
   ]
  },
  {
   "cell_type": "code",
   "execution_count": 9,
   "metadata": {},
   "outputs": [
    {
     "data": {
      "application/vnd.microsoft.datawrangler.viewer.v0+json": {
       "columns": [
        {
         "name": "index",
         "rawType": "int64",
         "type": "integer"
        },
        {
         "name": "jaar",
         "rawType": "int64",
         "type": "integer"
        },
        {
         "name": "gemeente",
         "rawType": "object",
         "type": "string"
        },
        {
         "name": "aantal_leerlingen",
         "rawType": "int64",
         "type": "integer"
        },
        {
         "name": "code",
         "rawType": "object",
         "type": "string"
        }
       ],
       "conversionMethod": "pd.DataFrame",
       "ref": "2670352c-0af3-4508-8e9e-7ced56f13dd2",
       "rows": [
        [
         "0",
         "2013",
         "Aa en Hunze",
         "80",
         "1680"
        ],
        [
         "1",
         "2014",
         "Aa en Hunze",
         "50",
         "1680"
        ],
        [
         "2",
         "2015",
         "Aa en Hunze",
         "60",
         "1680"
        ],
        [
         "3",
         "2016",
         "Aa en Hunze",
         "50",
         "1680"
        ],
        [
         "4",
         "2017",
         "Aa en Hunze",
         "60",
         "1680"
        ],
        [
         "5",
         "2018",
         "Aa en Hunze",
         "60",
         "1680"
        ],
        [
         "6",
         "2019",
         "Aa en Hunze",
         "60",
         "1680"
        ],
        [
         "7",
         "2020",
         "Aa en Hunze",
         "60",
         "1680"
        ],
        [
         "8",
         "2021",
         "Aa en Hunze",
         "60",
         "1680"
        ],
        [
         "9",
         "2022",
         "Aa en Hunze",
         "70",
         "1680"
        ],
        [
         "10",
         "2023",
         "Aa en Hunze",
         "70",
         "1680"
        ],
        [
         "11",
         "2013",
         "Aalburg",
         "40",
         "0738"
        ],
        [
         "12",
         "2014",
         "Aalburg",
         "40",
         "0738"
        ],
        [
         "13",
         "2015",
         "Aalburg",
         "30",
         "0738"
        ],
        [
         "14",
         "2016",
         "Aalburg",
         "30",
         "0738"
        ],
        [
         "15",
         "2017",
         "Aalburg",
         "30",
         "0738"
        ],
        [
         "16",
         "2018",
         "Aalburg",
         "30",
         "0738"
        ],
        [
         "17",
         "2013",
         "Aalsmeer",
         "80",
         "0358"
        ],
        [
         "18",
         "2014",
         "Aalsmeer",
         "70",
         "0358"
        ],
        [
         "19",
         "2015",
         "Aalsmeer",
         "60",
         "0358"
        ],
        [
         "20",
         "2016",
         "Aalsmeer",
         "60",
         "0358"
        ],
        [
         "21",
         "2017",
         "Aalsmeer",
         "70",
         "0358"
        ],
        [
         "22",
         "2018",
         "Aalsmeer",
         "80",
         "0358"
        ],
        [
         "23",
         "2019",
         "Aalsmeer",
         "90",
         "0358"
        ],
        [
         "24",
         "2020",
         "Aalsmeer",
         "90",
         "0358"
        ],
        [
         "25",
         "2021",
         "Aalsmeer",
         "100",
         "0358"
        ],
        [
         "26",
         "2022",
         "Aalsmeer",
         "100",
         "0358"
        ],
        [
         "27",
         "2023",
         "Aalsmeer",
         "110",
         "0358"
        ],
        [
         "28",
         "2013",
         "Aalten",
         "100",
         "0197"
        ],
        [
         "29",
         "2014",
         "Aalten",
         "110",
         "0197"
        ],
        [
         "30",
         "2015",
         "Aalten",
         "90",
         "0197"
        ],
        [
         "31",
         "2016",
         "Aalten",
         "90",
         "0197"
        ],
        [
         "32",
         "2017",
         "Aalten",
         "80",
         "0197"
        ],
        [
         "33",
         "2018",
         "Aalten",
         "80",
         "0197"
        ],
        [
         "34",
         "2019",
         "Aalten",
         "80",
         "0197"
        ],
        [
         "35",
         "2020",
         "Aalten",
         "70",
         "0197"
        ],
        [
         "36",
         "2021",
         "Aalten",
         "80",
         "0197"
        ],
        [
         "37",
         "2022",
         "Aalten",
         "70",
         "0197"
        ],
        [
         "38",
         "2023",
         "Aalten",
         "80",
         "0197"
        ],
        [
         "39",
         "2013",
         "Achtkarspelen",
         "140",
         "0059"
        ],
        [
         "40",
         "2014",
         "Achtkarspelen",
         "160",
         "0059"
        ],
        [
         "41",
         "2015",
         "Achtkarspelen",
         "150",
         "0059"
        ],
        [
         "42",
         "2016",
         "Achtkarspelen",
         "150",
         "0059"
        ],
        [
         "43",
         "2017",
         "Achtkarspelen",
         "150",
         "0059"
        ],
        [
         "44",
         "2018",
         "Achtkarspelen",
         "150",
         "0059"
        ],
        [
         "45",
         "2019",
         "Achtkarspelen",
         "170",
         "0059"
        ],
        [
         "46",
         "2020",
         "Achtkarspelen",
         "160",
         "0059"
        ],
        [
         "47",
         "2021",
         "Achtkarspelen",
         "160",
         "0059"
        ],
        [
         "48",
         "2022",
         "Achtkarspelen",
         "170",
         "0059"
        ],
        [
         "49",
         "2023",
         "Achtkarspelen",
         "190",
         "0059"
        ]
       ],
       "shape": {
        "columns": 4,
        "rows": 16532
       }
      },
      "text/html": [
       "<div>\n",
       "<style scoped>\n",
       "    .dataframe tbody tr th:only-of-type {\n",
       "        vertical-align: middle;\n",
       "    }\n",
       "\n",
       "    .dataframe tbody tr th {\n",
       "        vertical-align: top;\n",
       "    }\n",
       "\n",
       "    .dataframe thead th {\n",
       "        text-align: right;\n",
       "    }\n",
       "</style>\n",
       "<table border=\"1\" class=\"dataframe\">\n",
       "  <thead>\n",
       "    <tr style=\"text-align: right;\">\n",
       "      <th></th>\n",
       "      <th>jaar</th>\n",
       "      <th>gemeente</th>\n",
       "      <th>aantal_leerlingen</th>\n",
       "      <th>code</th>\n",
       "    </tr>\n",
       "  </thead>\n",
       "  <tbody>\n",
       "    <tr>\n",
       "      <th>0</th>\n",
       "      <td>2013</td>\n",
       "      <td>Aa en Hunze</td>\n",
       "      <td>80</td>\n",
       "      <td>1680</td>\n",
       "    </tr>\n",
       "    <tr>\n",
       "      <th>1</th>\n",
       "      <td>2014</td>\n",
       "      <td>Aa en Hunze</td>\n",
       "      <td>50</td>\n",
       "      <td>1680</td>\n",
       "    </tr>\n",
       "    <tr>\n",
       "      <th>2</th>\n",
       "      <td>2015</td>\n",
       "      <td>Aa en Hunze</td>\n",
       "      <td>60</td>\n",
       "      <td>1680</td>\n",
       "    </tr>\n",
       "    <tr>\n",
       "      <th>3</th>\n",
       "      <td>2016</td>\n",
       "      <td>Aa en Hunze</td>\n",
       "      <td>50</td>\n",
       "      <td>1680</td>\n",
       "    </tr>\n",
       "    <tr>\n",
       "      <th>4</th>\n",
       "      <td>2017</td>\n",
       "      <td>Aa en Hunze</td>\n",
       "      <td>60</td>\n",
       "      <td>1680</td>\n",
       "    </tr>\n",
       "    <tr>\n",
       "      <th>...</th>\n",
       "      <td>...</td>\n",
       "      <td>...</td>\n",
       "      <td>...</td>\n",
       "      <td>...</td>\n",
       "    </tr>\n",
       "    <tr>\n",
       "      <th>16560</th>\n",
       "      <td>2019</td>\n",
       "      <td>Zwolle</td>\n",
       "      <td>7350</td>\n",
       "      <td>0193</td>\n",
       "    </tr>\n",
       "    <tr>\n",
       "      <th>16561</th>\n",
       "      <td>2020</td>\n",
       "      <td>Zwolle</td>\n",
       "      <td>7470</td>\n",
       "      <td>0193</td>\n",
       "    </tr>\n",
       "    <tr>\n",
       "      <th>16562</th>\n",
       "      <td>2021</td>\n",
       "      <td>Zwolle</td>\n",
       "      <td>7470</td>\n",
       "      <td>0193</td>\n",
       "    </tr>\n",
       "    <tr>\n",
       "      <th>16563</th>\n",
       "      <td>2022</td>\n",
       "      <td>Zwolle</td>\n",
       "      <td>7510</td>\n",
       "      <td>0193</td>\n",
       "    </tr>\n",
       "    <tr>\n",
       "      <th>16564</th>\n",
       "      <td>2023</td>\n",
       "      <td>Zwolle</td>\n",
       "      <td>7690</td>\n",
       "      <td>0193</td>\n",
       "    </tr>\n",
       "  </tbody>\n",
       "</table>\n",
       "<p>16532 rows × 4 columns</p>\n",
       "</div>"
      ],
      "text/plain": [
       "       jaar     gemeente  aantal_leerlingen  code\n",
       "0      2013  Aa en Hunze                 80  1680\n",
       "1      2014  Aa en Hunze                 50  1680\n",
       "2      2015  Aa en Hunze                 60  1680\n",
       "3      2016  Aa en Hunze                 50  1680\n",
       "4      2017  Aa en Hunze                 60  1680\n",
       "...     ...          ...                ...   ...\n",
       "16560  2019       Zwolle               7350  0193\n",
       "16561  2020       Zwolle               7470  0193\n",
       "16562  2021       Zwolle               7470  0193\n",
       "16563  2022       Zwolle               7510  0193\n",
       "16564  2023       Zwolle               7690  0193\n",
       "\n",
       "[16532 rows x 4 columns]"
      ]
     },
     "execution_count": 9,
     "metadata": {},
     "output_type": "execute_result"
    }
   ],
   "source": [
    "vso"
   ]
  },
  {
   "cell_type": "code",
   "execution_count": null,
   "metadata": {},
   "outputs": [],
   "source": []
  },
  {
   "cell_type": "code",
   "execution_count": null,
   "metadata": {},
   "outputs": [],
   "source": []
  }
 ],
 "metadata": {
  "kernelspec": {
   "display_name": ".venv",
   "language": "python",
   "name": "python3"
  },
  "language_info": {
   "codemirror_mode": {
    "name": "ipython",
    "version": 3
   },
   "file_extension": ".py",
   "mimetype": "text/x-python",
   "name": "python",
   "nbconvert_exporter": "python",
   "pygments_lexer": "ipython3",
   "version": "3.11.10"
  }
 },
 "nbformat": 4,
 "nbformat_minor": 2
}
